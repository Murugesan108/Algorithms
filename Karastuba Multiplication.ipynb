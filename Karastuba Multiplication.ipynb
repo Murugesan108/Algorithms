{
 "cells": [
  {
   "cell_type": "code",
   "execution_count": 100,
   "metadata": {},
   "outputs": [],
   "source": [
    "### Let's get started"
   ]
  },
  {
   "cell_type": "code",
   "execution_count": 101,
   "metadata": {},
   "outputs": [],
   "source": [
    "#Initializing two numbers\n",
    "x = 1234\n",
    "y = 5678"
   ]
  },
  {
   "cell_type": "code",
   "execution_count": 102,
   "metadata": {},
   "outputs": [],
   "source": [
    "x_n = len(str(x))\n",
    "y_n = len(str(y))"
   ]
  },
  {
   "cell_type": "markdown",
   "metadata": {},
   "source": [
    "#### Splitting first number into two parts"
   ]
  },
  {
   "cell_type": "code",
   "execution_count": 103,
   "metadata": {},
   "outputs": [],
   "source": [
    "first_half = x/ 10 ** (x_n/2)\n",
    "a = int(first_half)\n",
    "b = int(str(first_half).split('.')[1])"
   ]
  },
  {
   "cell_type": "markdown",
   "metadata": {},
   "source": [
    "#### Splitting second number into two parts"
   ]
  },
  {
   "cell_type": "code",
   "execution_count": 104,
   "metadata": {},
   "outputs": [],
   "source": [
    "first_half = y/ 10 ** (y_n/2)\n",
    "c = int(first_half)\n",
    "d = int(str(first_half).split('.')[1])"
   ]
  },
  {
   "cell_type": "markdown",
   "metadata": {},
   "source": [
    "### Karastuba Multiplication"
   ]
  },
  {
   "cell_type": "code",
   "execution_count": 205,
   "metadata": {},
   "outputs": [],
   "source": [
    "def k_multiply(x,y):\n",
    "    #print(\"Entering the algorithm\")\n",
    "    x_n = len(str(x))\n",
    "    y_n = len(str(y))\n",
    "\n",
    "    \n",
    "    if((x_n == 1) or (y_n == 1) or x_n != y_n):\n",
    "        return int(x * y)\n",
    "    \n",
    "\n",
    "    #print(x_n,y_n)\n",
    "    a = int(str(x)[0:int(x_n/2)])\n",
    "    b = int(str(x)[int(x_n/2): (int(x_n)+1)])\n",
    "    \n",
    "    c = int(str(y)[0:int(y_n/2)])\n",
    "    d = int(str(y)[int(y_n/2): (int(y_n)+1)])\n",
    "#     print(a,b,c,d)\n",
    "    \n",
    "#     print(\"step 1\")\n",
    "    step1 = k_multiply(a,c)\n",
    "#     print(step1)\n",
    "#     print(\"step 2\")\n",
    "    step2 = k_multiply(b,d)\n",
    "#     print(step2)\n",
    "#     print(\"step 3\")\n",
    "    \n",
    "    step3 = k_multiply(a+b,c+d)\n",
    "#     print(step3)\n",
    "#     print(\"end step3\")\n",
    "    step4 = step3 - step2 - step1\n",
    "#     print(\"return\")\n",
    "#     print(int(step1 * (10 ** y_n)  + step4 * (10 ** (y_n/2)) + step2))\n",
    "    \n",
    "    return int(step1 * (10 ** max(x_n,y_n))  + step4 * (10 ** max((x_n/2),(y_n/2))) + step2)"
   ]
  },
  {
   "cell_type": "code",
   "execution_count": 213,
   "metadata": {},
   "outputs": [
    {
     "name": "stdout",
     "output_type": "stream",
     "text": [
      "7006652\n"
     ]
    },
    {
     "data": {
      "text/plain": [
       "7006652"
      ]
     },
     "execution_count": 213,
     "metadata": {},
     "output_type": "execute_result"
    }
   ],
   "source": [
    "print(1234 * 5678)\n",
    "k_multiply(1234,5678)"
   ]
  },
  {
   "cell_type": "code",
   "execution_count": 207,
   "metadata": {},
   "outputs": [],
   "source": [
    "x = 3141592653589793238462643383279502884197169399375105820974944592\n",
    "y = 2718281828459045235360287471352662497757247093699959574966967627"
   ]
  },
  {
   "cell_type": "code",
   "execution_count": 208,
   "metadata": {},
   "outputs": [
    {
     "data": {
      "text/plain": [
       "8539734222835626438938739863843185975241641542208280876560100210047908737015155623163904156919858738127514429482292457534128128"
      ]
     },
     "execution_count": 208,
     "metadata": {},
     "output_type": "execute_result"
    }
   ],
   "source": [
    "k_multiply(x,y)"
   ]
  },
  {
   "cell_type": "code",
   "execution_count": 209,
   "metadata": {},
   "outputs": [
    {
     "data": {
      "text/plain": [
       "8539734222673567065463550869546574495034888535765114961879601127067743044893204848617875072216249073013374895871952806582723184"
      ]
     },
     "execution_count": 209,
     "metadata": {},
     "output_type": "execute_result"
    }
   ],
   "source": [
    "x * y"
   ]
  }
 ],
 "metadata": {
  "kernelspec": {
   "display_name": "Python 3",
   "language": "python",
   "name": "python3"
  },
  "language_info": {
   "codemirror_mode": {
    "name": "ipython",
    "version": 3
   },
   "file_extension": ".py",
   "mimetype": "text/x-python",
   "name": "python",
   "nbconvert_exporter": "python",
   "pygments_lexer": "ipython3",
   "version": "3.6.4"
  }
 },
 "nbformat": 4,
 "nbformat_minor": 2
}
